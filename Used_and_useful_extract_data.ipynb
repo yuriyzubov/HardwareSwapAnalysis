{
 "cells": [
  {
   "cell_type": "code",
   "execution_count": 1,
   "metadata": {},
   "outputs": [],
   "source": [
    "from psaw import PushshiftAPI \n",
    "import pandas as pd\n",
    "import time\n",
    "import datetime\n",
    "import re \n",
    "import matplotlib.pyplot as plt"
   ]
  },
  {
   "cell_type": "code",
   "execution_count": 2,
   "metadata": {
    "scrolled": true
   },
   "outputs": [
    {
     "name": "stdout",
     "output_type": "stream",
     "text": [
      " 1276.7388093471527 seconds\n"
     ]
    }
   ],
   "source": [
    "starttime = time.time()\n",
    "\n",
    "api = PushshiftAPI()\n",
    "\n",
    "api_request_generator = api.search_submissions(subreddit='hardwareswap',  after=1598918522, before=1619821476)\n",
    "\n",
    "hardwareswapraw = pd.DataFrame([submission.d_ for submission in api_request_generator])\n",
    "\n",
    "print(' {} seconds'.format(time.time() - starttime))"
   ]
  },
  {
   "cell_type": "code",
   "execution_count": 3,
   "metadata": {},
   "outputs": [],
   "source": [
    "hardwareswapraw.to_csv (r'/data/hardware_swap_data.csv', index = False, header=True)"
   ]
  }
 ],
 "metadata": {
  "kernelspec": {
   "display_name": "Python 3",
   "language": "python",
   "name": "python3"
  },
  "language_info": {
   "codemirror_mode": {
    "name": "ipython",
    "version": 3
   },
   "file_extension": ".py",
   "mimetype": "text/x-python",
   "name": "python",
   "nbconvert_exporter": "python",
   "pygments_lexer": "ipython3",
   "version": "3.7.3"
  }
 },
 "nbformat": 4,
 "nbformat_minor": 4
}
