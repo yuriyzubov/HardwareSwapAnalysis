{
 "cells": [
  {
   "cell_type": "code",
   "execution_count": 1,
   "metadata": {},
   "outputs": [],
   "source": [
    "import os\n",
    "from psaw import PushshiftAPI \n",
    "import pandas as pd\n",
    "import time\n",
    "import datetime\n",
    "import re \n",
    "import matplotlib.pyplot as plt\n",
    "import geopandas as gpd\n",
    "import calendar"
   ]
  },
  {
   "cell_type": "code",
   "execution_count": 2,
   "metadata": {
    "collapsed": true
   },
   "outputs": [
    {
     "name": "stderr",
     "output_type": "stream",
     "text": [
      "/home/north45/Programs/Anaconda/lib/python3.7/site-packages/IPython/core/interactiveshell.py:3147: DtypeWarning: Columns (69) have mixed types.Specify dtype option on import or set low_memory=False.\n",
      "  interactivity=interactivity, compiler=compiler, result=result)\n",
      "/home/north45/Programs/Anaconda/lib/python3.7/site-packages/IPython/core/interactiveshell.py:3147: DtypeWarning: Columns (67,69,70) have mixed types.Specify dtype option on import or set low_memory=False.\n",
      "  interactivity=interactivity, compiler=compiler, result=result)\n"
     ]
    },
    {
     "data": {
      "text/html": [
       "<div>\n",
       "<style scoped>\n",
       "    .dataframe tbody tr th:only-of-type {\n",
       "        vertical-align: middle;\n",
       "    }\n",
       "\n",
       "    .dataframe tbody tr th {\n",
       "        vertical-align: top;\n",
       "    }\n",
       "\n",
       "    .dataframe thead th {\n",
       "        text-align: right;\n",
       "    }\n",
       "</style>\n",
       "<table border=\"1\" class=\"dataframe\">\n",
       "  <thead>\n",
       "    <tr style=\"text-align: right;\">\n",
       "      <th></th>\n",
       "      <th>all_awardings</th>\n",
       "      <th>allow_live_comments</th>\n",
       "      <th>author</th>\n",
       "      <th>author_flair_background_color</th>\n",
       "      <th>author_flair_css_class</th>\n",
       "      <th>author_flair_richtext</th>\n",
       "      <th>author_flair_text</th>\n",
       "      <th>author_flair_text_color</th>\n",
       "      <th>author_flair_type</th>\n",
       "      <th>author_fullname</th>\n",
       "      <th>...</th>\n",
       "      <th>treatment_tags</th>\n",
       "      <th>upvote_ratio</th>\n",
       "      <th>url</th>\n",
       "      <th>whitelist_status</th>\n",
       "      <th>wls</th>\n",
       "      <th>created</th>\n",
       "      <th>removed_by_category</th>\n",
       "      <th>author_cakeday</th>\n",
       "      <th>edited</th>\n",
       "      <th>banned_by</th>\n",
       "    </tr>\n",
       "  </thead>\n",
       "  <tbody>\n",
       "    <tr>\n",
       "      <th>0</th>\n",
       "      <td>[]</td>\n",
       "      <td>False</td>\n",
       "      <td>ellio3</td>\n",
       "      <td>NaN</td>\n",
       "      <td>Grade4</td>\n",
       "      <td>[{'e': 'text', 't': 'Trades: 29'}]</td>\n",
       "      <td>Trades: 29</td>\n",
       "      <td>dark</td>\n",
       "      <td>richtext</td>\n",
       "      <td>t2_1omue25y</td>\n",
       "      <td>...</td>\n",
       "      <td>[]</td>\n",
       "      <td>1.0</td>\n",
       "      <td>https://www.reddit.com/r/hardwareswap/comments...</td>\n",
       "      <td>all_ads</td>\n",
       "      <td>6</td>\n",
       "      <td>1.619839e+09</td>\n",
       "      <td>NaN</td>\n",
       "      <td>NaN</td>\n",
       "      <td>NaN</td>\n",
       "      <td>NaN</td>\n",
       "    </tr>\n",
       "    <tr>\n",
       "      <th>1</th>\n",
       "      <td>[]</td>\n",
       "      <td>False</td>\n",
       "      <td>TheGreenInsurgent</td>\n",
       "      <td>NaN</td>\n",
       "      <td>Grade2</td>\n",
       "      <td>[{'e': 'text', 't': 'Trades: 5'}]</td>\n",
       "      <td>Trades: 5</td>\n",
       "      <td>dark</td>\n",
       "      <td>richtext</td>\n",
       "      <td>t2_2vfz0xj9</td>\n",
       "      <td>...</td>\n",
       "      <td>[]</td>\n",
       "      <td>1.0</td>\n",
       "      <td>https://www.reddit.com/r/hardwareswap/comments...</td>\n",
       "      <td>all_ads</td>\n",
       "      <td>6</td>\n",
       "      <td>1.619839e+09</td>\n",
       "      <td>NaN</td>\n",
       "      <td>NaN</td>\n",
       "      <td>NaN</td>\n",
       "      <td>NaN</td>\n",
       "    </tr>\n",
       "    <tr>\n",
       "      <th>2</th>\n",
       "      <td>[]</td>\n",
       "      <td>False</td>\n",
       "      <td>w3lmatatan</td>\n",
       "      <td>NaN</td>\n",
       "      <td>Grade4</td>\n",
       "      <td>[{'e': 'text', 't': 'Trades: 34'}]</td>\n",
       "      <td>Trades: 34</td>\n",
       "      <td>dark</td>\n",
       "      <td>richtext</td>\n",
       "      <td>t2_gguqm</td>\n",
       "      <td>...</td>\n",
       "      <td>[]</td>\n",
       "      <td>1.0</td>\n",
       "      <td>https://www.reddit.com/r/hardwareswap/comments...</td>\n",
       "      <td>all_ads</td>\n",
       "      <td>6</td>\n",
       "      <td>1.619839e+09</td>\n",
       "      <td>NaN</td>\n",
       "      <td>NaN</td>\n",
       "      <td>NaN</td>\n",
       "      <td>NaN</td>\n",
       "    </tr>\n",
       "    <tr>\n",
       "      <th>3</th>\n",
       "      <td>[]</td>\n",
       "      <td>False</td>\n",
       "      <td>stickytingus</td>\n",
       "      <td>NaN</td>\n",
       "      <td>Grade2</td>\n",
       "      <td>[{'e': 'text', 't': 'Trades: 9'}]</td>\n",
       "      <td>Trades: 9</td>\n",
       "      <td>dark</td>\n",
       "      <td>richtext</td>\n",
       "      <td>t2_3rooo3i8</td>\n",
       "      <td>...</td>\n",
       "      <td>[]</td>\n",
       "      <td>1.0</td>\n",
       "      <td>https://www.reddit.com/r/hardwareswap/comments...</td>\n",
       "      <td>all_ads</td>\n",
       "      <td>6</td>\n",
       "      <td>1.619839e+09</td>\n",
       "      <td>NaN</td>\n",
       "      <td>NaN</td>\n",
       "      <td>NaN</td>\n",
       "      <td>NaN</td>\n",
       "    </tr>\n",
       "    <tr>\n",
       "      <th>4</th>\n",
       "      <td>[]</td>\n",
       "      <td>False</td>\n",
       "      <td>fewsiic</td>\n",
       "      <td>NaN</td>\n",
       "      <td>NaN</td>\n",
       "      <td>[]</td>\n",
       "      <td>NaN</td>\n",
       "      <td>NaN</td>\n",
       "      <td>text</td>\n",
       "      <td>t2_10vruq</td>\n",
       "      <td>...</td>\n",
       "      <td>[]</td>\n",
       "      <td>1.0</td>\n",
       "      <td>https://www.reddit.com/r/hardwareswap/comments...</td>\n",
       "      <td>all_ads</td>\n",
       "      <td>6</td>\n",
       "      <td>1.619839e+09</td>\n",
       "      <td>NaN</td>\n",
       "      <td>NaN</td>\n",
       "      <td>NaN</td>\n",
       "      <td>NaN</td>\n",
       "    </tr>\n",
       "  </tbody>\n",
       "</table>\n",
       "<p>5 rows × 69 columns</p>\n",
       "</div>"
      ],
      "text/plain": [
       "  all_awardings  allow_live_comments             author  \\\n",
       "0            []                False             ellio3   \n",
       "1            []                False  TheGreenInsurgent   \n",
       "2            []                False         w3lmatatan   \n",
       "3            []                False       stickytingus   \n",
       "4            []                False            fewsiic   \n",
       "\n",
       "   author_flair_background_color author_flair_css_class  \\\n",
       "0                            NaN                 Grade4   \n",
       "1                            NaN                 Grade2   \n",
       "2                            NaN                 Grade4   \n",
       "3                            NaN                 Grade2   \n",
       "4                            NaN                    NaN   \n",
       "\n",
       "                author_flair_richtext author_flair_text  \\\n",
       "0  [{'e': 'text', 't': 'Trades: 29'}]        Trades: 29   \n",
       "1   [{'e': 'text', 't': 'Trades: 5'}]         Trades: 5   \n",
       "2  [{'e': 'text', 't': 'Trades: 34'}]        Trades: 34   \n",
       "3   [{'e': 'text', 't': 'Trades: 9'}]         Trades: 9   \n",
       "4                                  []               NaN   \n",
       "\n",
       "  author_flair_text_color author_flair_type author_fullname  ...  \\\n",
       "0                    dark          richtext     t2_1omue25y  ...   \n",
       "1                    dark          richtext     t2_2vfz0xj9  ...   \n",
       "2                    dark          richtext        t2_gguqm  ...   \n",
       "3                    dark          richtext     t2_3rooo3i8  ...   \n",
       "4                     NaN              text       t2_10vruq  ...   \n",
       "\n",
       "  treatment_tags upvote_ratio  \\\n",
       "0             []          1.0   \n",
       "1             []          1.0   \n",
       "2             []          1.0   \n",
       "3             []          1.0   \n",
       "4             []          1.0   \n",
       "\n",
       "                                                 url  whitelist_status  wls  \\\n",
       "0  https://www.reddit.com/r/hardwareswap/comments...           all_ads    6   \n",
       "1  https://www.reddit.com/r/hardwareswap/comments...           all_ads    6   \n",
       "2  https://www.reddit.com/r/hardwareswap/comments...           all_ads    6   \n",
       "3  https://www.reddit.com/r/hardwareswap/comments...           all_ads    6   \n",
       "4  https://www.reddit.com/r/hardwareswap/comments...           all_ads    6   \n",
       "\n",
       "        created removed_by_category author_cakeday edited banned_by  \n",
       "0  1.619839e+09                 NaN            NaN    NaN       NaN  \n",
       "1  1.619839e+09                 NaN            NaN    NaN       NaN  \n",
       "2  1.619839e+09                 NaN            NaN    NaN       NaN  \n",
       "3  1.619839e+09                 NaN            NaN    NaN       NaN  \n",
       "4  1.619839e+09                 NaN            NaN    NaN       NaN  \n",
       "\n",
       "[5 rows x 69 columns]"
      ]
     },
     "execution_count": 2,
     "metadata": {},
     "output_type": "execute_result"
    }
   ],
   "source": [
    "address = str(os.getcwd()) + '/data/'\n",
    "\n",
    "\n",
    "hardwareswapraw = pd.read_csv (r'' + address +'hardware_swap_data.csv')"
   ]
  },
  {
   "cell_type": "code",
   "execution_count": null,
   "metadata": {},
   "outputs": [],
   "source": [
    "# crate reduced data and convert epoch time to regular date format"
   ]
  },
  {
   "cell_type": "code",
   "execution_count": 3,
   "metadata": {
    "collapsed": true
   },
   "outputs": [
    {
     "name": "stderr",
     "output_type": "stream",
     "text": [
      "/home/north45/Programs/Anaconda/lib/python3.7/site-packages/ipykernel_launcher.py:5: SettingWithCopyWarning: \n",
      "A value is trying to be set on a copy of a slice from a DataFrame.\n",
      "Try using .loc[row_indexer,col_indexer] = value instead\n",
      "\n",
      "See the caveats in the documentation: https://pandas.pydata.org/pandas-docs/stable/user_guide/indexing.html#returning-a-view-versus-a-copy\n",
      "  \"\"\"\n"
     ]
    }
   ],
   "source": [
    "hardwareswapred =  hardwareswawpraw[['title', 'selftext', 'created_utc']]\n",
    "\n",
    "hardwareswapred['date'] = pd.to_datetime(hardwareswapred['created_utc'], unit='s')"
   ]
  },
  {
   "cell_type": "code",
   "execution_count": null,
   "metadata": {},
   "outputs": [],
   "source": [
    "# extract location information (state)"
   ]
  },
  {
   "cell_type": "code",
   "execution_count": 4,
   "metadata": {
    "collapsed": true
   },
   "outputs": [
    {
     "name": "stderr",
     "output_type": "stream",
     "text": [
      "/home/north45/Programs/Anaconda/lib/python3.7/site-packages/ipykernel_launcher.py:1: SettingWithCopyWarning: \n",
      "A value is trying to be set on a copy of a slice from a DataFrame.\n",
      "Try using .loc[row_indexer,col_indexer] = value instead\n",
      "\n",
      "See the caveats in the documentation: https://pandas.pydata.org/pandas-docs/stable/user_guide/indexing.html#returning-a-view-versus-a-copy\n",
      "  \"\"\"Entry point for launching an IPython kernel.\n"
     ]
    }
   ],
   "source": [
    "hardwareswapred['State'] =  hardwareswapred['title'].str.extract('(\\[USA\\s*-\\s*\\w{2}\\])', expand=True)\n"
   ]
  },
  {
   "cell_type": "code",
   "execution_count": 5,
   "metadata": {
    "collapsed": true
   },
   "outputs": [
    {
     "name": "stderr",
     "output_type": "stream",
     "text": [
      "/home/north45/Programs/Anaconda/lib/python3.7/site-packages/ipykernel_launcher.py:1: SettingWithCopyWarning: \n",
      "A value is trying to be set on a copy of a slice from a DataFrame.\n",
      "Try using .loc[row_indexer,col_indexer] = value instead\n",
      "\n",
      "See the caveats in the documentation: https://pandas.pydata.org/pandas-docs/stable/user_guide/indexing.html#returning-a-view-versus-a-copy\n",
      "  \"\"\"Entry point for launching an IPython kernel.\n"
     ]
    }
   ],
   "source": [
    "hardwareswapred['State'] =hardwareswapred['title'].str.extract('(-\\s*\\w{2})', expand=True)\n"
   ]
  },
  {
   "cell_type": "code",
   "execution_count": 6,
   "metadata": {
    "collapsed": true
   },
   "outputs": [
    {
     "name": "stderr",
     "output_type": "stream",
     "text": [
      "/home/north45/Programs/Anaconda/lib/python3.7/site-packages/ipykernel_launcher.py:1: SettingWithCopyWarning: \n",
      "A value is trying to be set on a copy of a slice from a DataFrame.\n",
      "Try using .loc[row_indexer,col_indexer] = value instead\n",
      "\n",
      "See the caveats in the documentation: https://pandas.pydata.org/pandas-docs/stable/user_guide/indexing.html#returning-a-view-versus-a-copy\n",
      "  \"\"\"Entry point for launching an IPython kernel.\n"
     ]
    }
   ],
   "source": [
    "hardwareswapred['State'] = hardwareswapred['State'].str.replace('-', '')\n"
   ]
  },
  {
   "cell_type": "code",
   "execution_count": null,
   "metadata": {},
   "outputs": [],
   "source": [
    "# extract information about what is offered in postings"
   ]
  },
  {
   "cell_type": "code",
   "execution_count": 7,
   "metadata": {
    "collapsed": true
   },
   "outputs": [
    {
     "name": "stderr",
     "output_type": "stream",
     "text": [
      "/home/north45/Programs/Anaconda/lib/python3.7/site-packages/ipykernel_launcher.py:1: SettingWithCopyWarning: \n",
      "A value is trying to be set on a copy of a slice from a DataFrame.\n",
      "Try using .loc[row_indexer,col_indexer] = value instead\n",
      "\n",
      "See the caveats in the documentation: https://pandas.pydata.org/pandas-docs/stable/user_guide/indexing.html#returning-a-view-versus-a-copy\n",
      "  \"\"\"Entry point for launching an IPython kernel.\n"
     ]
    }
   ],
   "source": [
    "hardwareswapred['sellItem'] = hardwareswapred['title'].str.extract('(.*?)', expand=True)\n"
   ]
  },
  {
   "cell_type": "code",
   "execution_count": 8,
   "metadata": {
    "collapsed": true
   },
   "outputs": [
    {
     "name": "stderr",
     "output_type": "stream",
     "text": [
      "/home/north45/Programs/Anaconda/lib/python3.7/site-packages/ipykernel_launcher.py:1: SettingWithCopyWarning: \n",
      "A value is trying to be set on a copy of a slice from a DataFrame.\n",
      "Try using .loc[row_indexer,col_indexer] = value instead\n",
      "\n",
      "See the caveats in the documentation: https://pandas.pydata.org/pandas-docs/stable/user_guide/indexing.html#returning-a-view-versus-a-copy\n",
      "  \"\"\"Entry point for launching an IPython kernel.\n"
     ]
    }
   ],
   "source": [
    "hardwareswapred['sellItem'] = hardwareswapred['title'].str.extract('(H\\s*\\](.*?)\\[)', expand=True)\n"
   ]
  },
  {
   "cell_type": "code",
   "execution_count": 9,
   "metadata": {
    "collapsed": true
   },
   "outputs": [
    {
     "name": "stderr",
     "output_type": "stream",
     "text": [
      "/home/north45/Programs/Anaconda/lib/python3.7/site-packages/ipykernel_launcher.py:1: SettingWithCopyWarning: \n",
      "A value is trying to be set on a copy of a slice from a DataFrame.\n",
      "Try using .loc[row_indexer,col_indexer] = value instead\n",
      "\n",
      "See the caveats in the documentation: https://pandas.pydata.org/pandas-docs/stable/user_guide/indexing.html#returning-a-view-versus-a-copy\n",
      "  \"\"\"Entry point for launching an IPython kernel.\n"
     ]
    }
   ],
   "source": [
    "hardwareswapred['sellItem'] = hardwareswapred['sellItem'].str.replace('H\\]', '')\n"
   ]
  },
  {
   "cell_type": "code",
   "execution_count": 10,
   "metadata": {
    "collapsed": true
   },
   "outputs": [
    {
     "name": "stderr",
     "output_type": "stream",
     "text": [
      "/home/north45/Programs/Anaconda/lib/python3.7/site-packages/ipykernel_launcher.py:1: SettingWithCopyWarning: \n",
      "A value is trying to be set on a copy of a slice from a DataFrame.\n",
      "Try using .loc[row_indexer,col_indexer] = value instead\n",
      "\n",
      "See the caveats in the documentation: https://pandas.pydata.org/pandas-docs/stable/user_guide/indexing.html#returning-a-view-versus-a-copy\n",
      "  \"\"\"Entry point for launching an IPython kernel.\n"
     ]
    }
   ],
   "source": [
    "hardwareswapred['sellItem'] = hardwareswapred['sellItem'].str.replace('\\[', '')\n"
   ]
  },
  {
   "cell_type": "code",
   "execution_count": null,
   "metadata": {},
   "outputs": [],
   "source": [
    "# extract information about what is being asked in postings"
   ]
  },
  {
   "cell_type": "code",
   "execution_count": 11,
   "metadata": {
    "collapsed": true
   },
   "outputs": [
    {
     "name": "stderr",
     "output_type": "stream",
     "text": [
      "/home/north45/Programs/Anaconda/lib/python3.7/site-packages/ipykernel_launcher.py:1: SettingWithCopyWarning: \n",
      "A value is trying to be set on a copy of a slice from a DataFrame.\n",
      "Try using .loc[row_indexer,col_indexer] = value instead\n",
      "\n",
      "See the caveats in the documentation: https://pandas.pydata.org/pandas-docs/stable/user_guide/indexing.html#returning-a-view-versus-a-copy\n",
      "  \"\"\"Entry point for launching an IPython kernel.\n"
     ]
    }
   ],
   "source": [
    "hardwareswapred['getItem'] = hardwareswapred['title'].str.extract('(.*?)', expand=True)\n"
   ]
  },
  {
   "cell_type": "code",
   "execution_count": 12,
   "metadata": {
    "collapsed": true
   },
   "outputs": [
    {
     "name": "stderr",
     "output_type": "stream",
     "text": [
      "/home/north45/Programs/Anaconda/lib/python3.7/site-packages/ipykernel_launcher.py:1: SettingWithCopyWarning: \n",
      "A value is trying to be set on a copy of a slice from a DataFrame.\n",
      "Try using .loc[row_indexer,col_indexer] = value instead\n",
      "\n",
      "See the caveats in the documentation: https://pandas.pydata.org/pandas-docs/stable/user_guide/indexing.html#returning-a-view-versus-a-copy\n",
      "  \"\"\"Entry point for launching an IPython kernel.\n"
     ]
    }
   ],
   "source": [
    "hardwareswapred['getItem']  = hardwareswapred['title'].str.split('W\\s*\\]').str[-1]"
   ]
  },
  {
   "cell_type": "code",
   "execution_count": 13,
   "metadata": {},
   "outputs": [],
   "source": [
    "hardwareswapred = hardwareswapred[hardwareswapred['sellItem'].notna()]\n",
    "hardwareswapred = hardwareswapred[hardwareswapred['State'].notna()]\n"
   ]
  },
  {
   "cell_type": "code",
   "execution_count": null,
   "metadata": {},
   "outputs": [],
   "source": [
    "# Supply postings volume by month"
   ]
  },
  {
   "cell_type": "code",
   "execution_count": 14,
   "metadata": {
    "scrolled": true
   },
   "outputs": [],
   "source": [
    "hardwareswapSell3080 = hardwareswapred[hardwareswapred['sellItem'].str.contains('3080')]"
   ]
  },
  {
   "cell_type": "code",
   "execution_count": 15,
   "metadata": {},
   "outputs": [],
   "source": [
    "hardwareswapred3080dateSell = hardwareswapSell3080['date'].dt.to_period('M').value_counts().sort_index().to_frame().reset_index()\n",
    "hardwareswapred3080dateSell = hardwareswapred3080dateSell.rename(columns = {'index' : 'date_sell', 'date' : 'date_count_sell'})\n",
    "hardwareswapred3080dateSell['date_mod_sell'] = (hardwareswapred3080dateSell['date_sell'].dt.year.astype(str) + ', '\n",
    "                                           + hardwareswapred3080dateSell['date_sell'].dt.month.apply(lambda x: calendar.month_name[x]).astype(str))\n"
   ]
  },
  {
   "cell_type": "code",
   "execution_count": 16,
   "metadata": {},
   "outputs": [
    {
     "data": {
      "image/png": "[encoded data removed]",
      "text/plain": [
       "<Figure size 1440x720 with 1 Axes>"
      ]
     },
     "metadata": {
      "needs_background": "light"
     },
     "output_type": "display_data"
    }
   ],
   "source": [
    "fig3080Sell = hardwareswapred3080dateSell.plot(x = 'date_mod_sell', y = 'date_count_sell', kind = 'bar',\n",
    "                                            figsize=(20, 10), fontsize=20, \n",
    "                                               legend = False, color = 'blue').get_figure()\n",
    "\n",
    "\n",
    "fig3080Sell.suptitle('RTX 3080 Supply postings', fontsize=20)\n",
    "plt.xlabel('Date', fontsize=20)\n",
    "plt.ylabel('Supply postings', fontsize=20)\n",
    "fig3080Sell.savefig('3080_supply_date.png')"
   ]
  },
  {
   "cell_type": "code",
   "execution_count": 17,
   "metadata": {},
   "outputs": [],
   "source": [
    "# Demand postings  volume by month"
   ]
  },
  {
   "cell_type": "code",
   "execution_count": 18,
   "metadata": {},
   "outputs": [
    {
     "data": {
      "text/html": [
       "<div>\n",
       "<style scoped>\n",
       "    .dataframe tbody tr th:only-of-type {\n",
       "        vertical-align: middle;\n",
       "    }\n",
       "\n",
       "    .dataframe tbody tr th {\n",
       "        vertical-align: top;\n",
       "    }\n",
       "\n",
       "    .dataframe thead th {\n",
       "        text-align: right;\n",
       "    }\n",
       "</style>\n",
       "<table border=\"1\" class=\"dataframe\">\n",
       "  <thead>\n",
       "    <tr style=\"text-align: right;\">\n",
       "      <th></th>\n",
       "      <th>title</th>\n",
       "      <th>selftext</th>\n",
       "      <th>created_utc</th>\n",
       "      <th>date</th>\n",
       "      <th>State</th>\n",
       "      <th>sellItem</th>\n",
       "      <th>getItem</th>\n",
       "    </tr>\n",
       "  </thead>\n",
       "  <tbody>\n",
       "    <tr>\n",
       "      <th>3</th>\n",
       "      <td>[USA - CA] [H] AMD Sapphire Nitro+ Radeon RX 6...</td>\n",
       "      <td>I have an AMD Sapphire Nitro+ Radeon RX 6700 X...</td>\n",
       "      <td>1618530358</td>\n",
       "      <td>2021-04-15 23:45:58</td>\n",
       "      <td>CA</td>\n",
       "      <td>AMD Sapphire Nitro+ Radeon RX 6700 XT 12GB</td>\n",
       "      <td>Nvidia 3060 Ti, 3070, or 3080</td>\n",
       "    </tr>\n",
       "    <tr>\n",
       "      <th>9</th>\n",
       "      <td>[USA-NY] [H] Local Cash, Zotac 2060 Twin Edge ...</td>\n",
       "      <td>Looking to buy either a RTX 3070 or RTX 3080 c...</td>\n",
       "      <td>1618529725</td>\n",
       "      <td>2021-04-15 23:35:25</td>\n",
       "      <td>NY</td>\n",
       "      <td>Local Cash, Zotac 2060 Twin Edge</td>\n",
       "      <td>RTX 3070 / RTX 3080</td>\n",
       "    </tr>\n",
       "    <tr>\n",
       "      <th>20</th>\n",
       "      <td>[USA-TN] [H] Paypal [W] New gen gpu 3070/3080 ...</td>\n",
       "      <td>Looking for a new gen gpu, willing to negotiat...</td>\n",
       "      <td>1618528929</td>\n",
       "      <td>2021-04-15 23:22:09</td>\n",
       "      <td>TN</td>\n",
       "      <td>Paypal</td>\n",
       "      <td>New gen gpu 3070/3080 any 6000xt series</td>\n",
       "    </tr>\n",
       "    <tr>\n",
       "      <th>25</th>\n",
       "      <td>USA - CA] [H] AMD Sapphire Nitro+ Radeon RX 67...</td>\n",
       "      <td>I have an AMD Sapphire Nitro+ Radeon RX 6700 X...</td>\n",
       "      <td>1618528756</td>\n",
       "      <td>2021-04-15 23:19:16</td>\n",
       "      <td>CA</td>\n",
       "      <td>AMD Sapphire Nitro+ Radeon RX 6700 XT 12GB</td>\n",
       "      <td>Nvidia 3060 Ti, 3070, or 3080</td>\n",
       "    </tr>\n",
       "    <tr>\n",
       "      <th>44</th>\n",
       "      <td>[USA-MS] [H] Gigabyte Aorus gtx 1070 eGPU + ca...</td>\n",
       "      <td>NaN</td>\n",
       "      <td>1618527162</td>\n",
       "      <td>2021-04-15 22:52:42</td>\n",
       "      <td>MS</td>\n",
       "      <td>Gigabyte Aorus gtx 1070 eGPU + cash</td>\n",
       "      <td>rtx 3070, 3080, or 3090</td>\n",
       "    </tr>\n",
       "  </tbody>\n",
       "</table>\n",
       "</div>"
      ],
      "text/plain": [
       "                                                title  \\\n",
       "3   [USA - CA] [H] AMD Sapphire Nitro+ Radeon RX 6...   \n",
       "9   [USA-NY] [H] Local Cash, Zotac 2060 Twin Edge ...   \n",
       "20  [USA-TN] [H] Paypal [W] New gen gpu 3070/3080 ...   \n",
       "25  USA - CA] [H] AMD Sapphire Nitro+ Radeon RX 67...   \n",
       "44  [USA-MS] [H] Gigabyte Aorus gtx 1070 eGPU + ca...   \n",
       "\n",
       "                                             selftext  created_utc  \\\n",
       "3   I have an AMD Sapphire Nitro+ Radeon RX 6700 X...   1618530358   \n",
       "9   Looking to buy either a RTX 3070 or RTX 3080 c...   1618529725   \n",
       "20  Looking for a new gen gpu, willing to negotiat...   1618528929   \n",
       "25  I have an AMD Sapphire Nitro+ Radeon RX 6700 X...   1618528756   \n",
       "44                                                NaN   1618527162   \n",
       "\n",
       "                  date State                                      sellItem  \\\n",
       "3  2021-04-15 23:45:58    CA   AMD Sapphire Nitro+ Radeon RX 6700 XT 12GB    \n",
       "9  2021-04-15 23:35:25    NY             Local Cash, Zotac 2060 Twin Edge    \n",
       "20 2021-04-15 23:22:09    TN                                       Paypal    \n",
       "25 2021-04-15 23:19:16    CA   AMD Sapphire Nitro+ Radeon RX 6700 XT 12GB    \n",
       "44 2021-04-15 22:52:42    MS          Gigabyte Aorus gtx 1070 eGPU + cash    \n",
       "\n",
       "                                     getItem  \n",
       "3              Nvidia 3060 Ti, 3070, or 3080  \n",
       "9                        RTX 3070 / RTX 3080  \n",
       "20   New gen gpu 3070/3080 any 6000xt series  \n",
       "25             Nvidia 3060 Ti, 3070, or 3080  \n",
       "44                   rtx 3070, 3080, or 3090  "
      ]
     },
     "execution_count": 18,
     "metadata": {},
     "output_type": "execute_result"
    }
   ],
   "source": [
    "hardwareswapBuy3080 = hardwareswapred[hardwareswapred['getItem'].str.contains('3080')]\n",
    "hardwareswapBuy3080.head()"
   ]
  },
  {
   "cell_type": "code",
   "execution_count": 19,
   "metadata": {},
   "outputs": [],
   "source": [
    "hardwareswapred3080dateBuy = hardwareswapBuy3080['date'].dt.to_period('M').value_counts().sort_index().to_frame().reset_index()\n",
    "hardwareswapred3080dateBuy = hardwareswapred3080dateBuy.rename(columns = {'index' : 'date_buy', 'date' : 'date_count_buy'})\n",
    "hardwareswapred3080dateBuy['date_mod_buy'] = (hardwareswapred3080dateBuy['date_buy'].dt.year.astype(str) + ', '\n",
    "                                           + hardwareswapred3080dateBuy['date_buy'].dt.month.apply(lambda x: calendar.month_name[x]).astype(str))\n"
   ]
  },
  {
   "cell_type": "code",
   "execution_count": 20,
   "metadata": {},
   "outputs": [
    {
     "data": {
      "image/png": "[encoded data removed]",
      "text/plain": [
       "<Figure size 1440x720 with 1 Axes>"
      ]
     },
     "metadata": {
      "needs_background": "light"
     },
     "output_type": "display_data"
    }
   ],
   "source": [
    "fig3080Buy = hardwareswapred3080dateBuy.plot(x = 'date_mod_buy', y = 'date_count_buy', kind = 'bar',\n",
    "                                             color = 'orange',figsize=(20, 10), \n",
    "                                             fontsize=20, legend = False).get_figure()\n",
    "\n",
    "\n",
    "fig3080Buy.suptitle('RTX 3080 Demand postings', fontsize=20)\n",
    "plt.xlabel('Date', fontsize=20)\n",
    "plt.ylabel('Demand postings', fontsize=20)\n",
    "fig3080Buy.savefig('3080_demand_date.png')"
   ]
  },
  {
   "cell_type": "code",
   "execution_count": 21,
   "metadata": {},
   "outputs": [],
   "source": [
    "# Supply to demand ratio volume by month"
   ]
  },
  {
   "cell_type": "code",
   "execution_count": 22,
   "metadata": {},
   "outputs": [],
   "source": [
    "hardwareswapred3080dateDemand = pd.DataFrame()\n",
    "hardwareswapred3080dateDemand['date'] = hardwareswapred3080dateSell['date_mod_sell']\n",
    "hardwareswapred3080dateDemand['suppplyToDemand'] = hardwareswapred3080dateSell['date_count_sell']/ hardwareswapred3080dateBuy['date_count_buy']"
   ]
  },
  {
   "cell_type": "code",
   "execution_count": 23,
   "metadata": {},
   "outputs": [
    {
     "data": {
      "image/png": "[encoded data removed]",
      "text/plain": [
       "<Figure size 1440x720 with 1 Axes>"
      ]
     },
     "metadata": {
      "needs_background": "light"
     },
     "output_type": "display_data"
    }
   ],
   "source": [
    "fig3080StoD = hardwareswapred3080dateDemand.plot(x = 'date', y = 'suppplyToDemand', kind = 'bar',\n",
    "                                            figsize=(20, 10), color = 'purple',\n",
    "                                                 fontsize=20, legend = False).get_figure()\n",
    "\n",
    "\n",
    "fig3080StoD.suptitle('RTX 3080 Supply/Demand', fontsize=20)\n",
    "plt.xlabel('Date', fontsize=20)\n",
    "plt.ylabel('Supply/Demand', fontsize=20)\n",
    "fig3080Buy.savefig('3080_demand_to_supply_date.png')"
   ]
  }
 ],
 "metadata": {
  "kernelspec": {
   "display_name": "Python 3",
   "language": "python",
   "name": "python3"
  },
  "language_info": {
   "codemirror_mode": {
    "name": "ipython",
    "version": 3
   },
   "file_extension": ".py",
   "mimetype": "text/x-python",
   "name": "python",
   "nbconvert_exporter": "python",
   "pygments_lexer": "ipython3",
   "version": "3.7.3"
  }
 },
 "nbformat": 4,
 "nbformat_minor": 4
}
